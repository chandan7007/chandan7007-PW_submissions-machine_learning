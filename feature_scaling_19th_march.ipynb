{
 "cells": [
  {
   "cell_type": "markdown",
   "id": "47a1b7ca",
   "metadata": {},
   "source": [
    "Q1. What is Min-Max scaling, and how is it used in data preprocessing? Provide an example to illustrate its\n",
    "application."
   ]
  },
  {
   "cell_type": "markdown",
   "id": "d778fa77",
   "metadata": {},
   "source": [
    "An alternative approach to Z-score normalization (or standardization) is the \n",
    "\n",
    "so-called Min-Max scaling (often also simply called \"normalization\" - a common cause for ambiguities).\n",
    "\n",
    "In this approach, the data is scaled to a fixed range - usually 0 to 1"
   ]
  },
  {
   "cell_type": "code",
   "execution_count": 7,
   "id": "296ed06b",
   "metadata": {},
   "outputs": [
    {
     "name": "stdout",
     "output_type": "stream",
     "text": [
      "50.81 3.07\n"
     ]
    }
   ],
   "source": [
    "import seaborn as sns\n",
    "import numpy as np\n",
    "df=sns.load_dataset('tips')\n",
    "max_m=max(df['total_bill'])\n",
    "min_n=min(df['total_bill'])\n",
    "print(max_m,min_n)\n",
    "normalized_data=[]\n",
    "for i in list(df['total_bill']):\n",
    "    z_score=(i-min_n)/(max_n-min_n)\n",
    "    normalized_data.append(z_score)\n"
   ]
  },
  {
   "cell_type": "code",
   "execution_count": 8,
   "id": "8ed0e72b",
   "metadata": {},
   "outputs": [
    {
     "data": {
      "text/plain": [
       "[0.8222090962787949,\n",
       " 0.42941523922031893,\n",
       " 1.0596574128765506,\n",
       " 1.2173656231541643,\n",
       " 1.271116361488482,\n",
       " 1.312463083284111,\n",
       " 0.3366804489072652,\n",
       " 1.4063792085056113,\n",
       " 0.7070289427052568,\n",
       " 0.6916715888954518,\n",
       " 0.425280567040756,\n",
       " 1.9013585351447133,\n",
       " 0.7294743059657413,\n",
       " 0.9072652096869462,\n",
       " 0.6946249261665682,\n",
       " 1.0933254577672769,\n",
       " 0.4288245717660957,\n",
       " 0.780862374483166,\n",
       " 0.8210277613703484,\n",
       " 1.0383933845245126,\n",
       " 0.8771411695215595,\n",
       " 1.0171293561724748,\n",
       " 0.7501476668635558,\n",
       " 2.1470761961015947,\n",
       " 0.9893679858239811,\n",
       " 0.8706438275251033,\n",
       " 0.6083874778499704,\n",
       " 0.5682220909627879,\n",
       " 1.1004134672179562,\n",
       " 0.9793266391021854,\n",
       " 0.3827525103366805,\n",
       " 0.9025398700531602,\n",
       " 0.7082102776137035,\n",
       " 1.0407560543414058,\n",
       " 0.8688718251624337,\n",
       " 1.2398109864146485,\n",
       " 0.7820437093916125,\n",
       " 0.8186650915534553,\n",
       " 0.9226225634967514,\n",
       " 1.6656822209096278,\n",
       " 0.7660956881275841,\n",
       " 0.8499704666272889,\n",
       " 0.642055522740697,\n",
       " 0.390431187241583,\n",
       " 1.6142941523922032,\n",
       " 0.8989958653278204,\n",
       " 1.1317188422917897,\n",
       " 1.7324276432368575,\n",
       " 1.505020673360898,\n",
       " 0.8842291789722386,\n",
       " 0.5593620791494388,\n",
       " 0.4264619019492025,\n",
       " 1.8747784997046664,\n",
       " 0.405788541051388,\n",
       " 1.3284111045481393,\n",
       " 0.969875959834613,\n",
       " 2.063792085056113,\n",
       " 1.3786178381571175,\n",
       " 0.4825753101004135,\n",
       " 2.669816893089191,\n",
       " 1.0171293561724748,\n",
       " 0.6343768458357945,\n",
       " 0.46958062610750145,\n",
       " 0.8989958653278204,\n",
       " 0.8576491435321913,\n",
       " 1.004725339633786,\n",
       " 0.7903130537507382,\n",
       " 0.0,\n",
       " 1.0135853514471354,\n",
       " 0.7052569403425871,\n",
       " 0.5286473715298287,\n",
       " 0.8269344359125812,\n",
       " 1.4051978735971649,\n",
       " 1.3118724158298878,\n",
       " 0.6887182516243355,\n",
       " 0.43945658594211456,\n",
       " 0.8771411695215595,\n",
       " 1.425280567040756,\n",
       " 1.1630242173656233,\n",
       " 0.8399291199054931,\n",
       " 0.9669226225634968,\n",
       " 0.8027170702894271,\n",
       " 0.4134672179562906,\n",
       " 1.7489663319551092,\n",
       " 0.7625516834022446,\n",
       " 1.8759598346131128,\n",
       " 0.5883047844063791,\n",
       " 0.8984051978735972,\n",
       " 1.2782043709391613,\n",
       " 1.0685174246898996,\n",
       " 1.5298287064382752,\n",
       " 1.1470761961015947,\n",
       " 0.15829887773183698,\n",
       " 0.7826343768458358,\n",
       " 1.1624335499113998,\n",
       " 2.1913762551683402,\n",
       " 1.4300059066745423,\n",
       " 0.529238038984052,\n",
       " 1.0596574128765506,\n",
       " 0.5546367395156527,\n",
       " 0.48907265209686945,\n",
       " 0.7271116361488482,\n",
       " 2.4353219137625515,\n",
       " 1.142941523922032,\n",
       " 1.0543414057885412,\n",
       " 0.7259303012404016,\n",
       " 1.0289427052569402,\n",
       " 1.307737743650325,\n",
       " 0.896042528056704,\n",
       " 0.6639102185469581,\n",
       " 0.6455995274660367,\n",
       " 0.24689899586532782,\n",
       " 2.067336089781453,\n",
       " 1.2333136444181925,\n",
       " 1.3372711163614885,\n",
       " 0.8411104548139396,\n",
       " 1.5865327820437094,\n",
       " 0.4477259303012404,\n",
       " 0.5528647371529829,\n",
       " 1.240992321323095,\n",
       " 0.5091553455404607,\n",
       " 0.6113408151210868,\n",
       " 0.6609568812758417,\n",
       " 0.7607796810395747,\n",
       " 0.5558180744240993,\n",
       " 1.578854105138807,\n",
       " 0.32191376255168336,\n",
       " 0.6763142350856467,\n",
       " 0.49084465445953934,\n",
       " 1.1665682220909628,\n",
       " 0.9456585942114588,\n",
       " 1.0159480212640284,\n",
       " 0.47844063792085056,\n",
       " 0.5428233904311872,\n",
       " 0.8972238629651507,\n",
       " 0.3213230950974601,\n",
       " 0.4288245717660957,\n",
       " 0.6544595392793857,\n",
       " 0.7637330183106911,\n",
       " 0.5959834613112818,\n",
       " 0.850561134081512,\n",
       " 1.8446544595392793,\n",
       " 2.251624335499114,\n",
       " 1.416420555227407,\n",
       " 0.7891317188422917,\n",
       " 0.31187241582988773,\n",
       " 0.919669226225635,\n",
       " 0.5197873597164796,\n",
       " 0.39633786178381564,\n",
       " 0.2622563496751329,\n",
       " 0.6497341996455995,\n",
       " 0.5942114589486119,\n",
       " 0.8381571175428235,\n",
       " 1.268753691671589,\n",
       " 0.9864146485528648,\n",
       " 1.5818074424099233,\n",
       " 2.6639102185469583,\n",
       " 1.295333727111636,\n",
       " 0.609568812758417,\n",
       " 0.7926757235676313,\n",
       " 1.0886001181334908,\n",
       " 0.5664500886001181,\n",
       " 0.7761370348493798,\n",
       " 0.6343768458357945,\n",
       " 0.8529238038984053,\n",
       " 1.266981689308919,\n",
       " 1.0448907265209688,\n",
       " 1.6916715888954519,\n",
       " 0.44418192557590075,\n",
       " 0.4465445953927939,\n",
       " 2.8198464264619023,\n",
       " 0.752510336680449,\n",
       " 0.24689899586532782,\n",
       " 1.6999409332545778,\n",
       " 0.8121677495569994,\n",
       " 1.7619610159480212,\n",
       " 0.8753691671588896,\n",
       " 0.6739515652687537,\n",
       " 0.3857058476077968,\n",
       " 1.8641464855286476,\n",
       " 1.8653278204370938,\n",
       " 1.1966922622563496,\n",
       " 2.4973419964559955,\n",
       " 1.1872415829887775,\n",
       " 2.2138216184288244,\n",
       " 1.0407560543414058,\n",
       " 1.0531600708800943,\n",
       " 1.6178381571175429,\n",
       " 0.8907265209686945,\n",
       " 1.1831069108092145,\n",
       " 0.7454223272297696,\n",
       " 0.9887773183697578,\n",
       " 1.498523331364442,\n",
       " 0.7330183106910809,\n",
       " 0.7979917306556408,\n",
       " 0.2652096869462493,\n",
       " 0.42941523922031893,\n",
       " 2.3650324867099823,\n",
       " 0.5865327820437094,\n",
       " 0.6166568222090962,\n",
       " 0.9238038984051979,\n",
       " 0.5711754282339043,\n",
       " 0.5865327820437094,\n",
       " 0.7873597164796219,\n",
       " 1.0313053750738335,\n",
       " 0.7914943886591848,\n",
       " 1.3892498523331365,\n",
       " 2.1063201417601887,\n",
       " 1.2522150029533372,\n",
       " 0.5723567631423508,\n",
       " 1.5942114589486118,\n",
       " 1.3479031305375073,\n",
       " 2.6733608978145305,\n",
       " 0.6024808033077377,\n",
       " 1.4825753101004135,\n",
       " 0.5806261075014767,\n",
       " 1.481393975191967,\n",
       " 0.503248670998228,\n",
       " 0.2758417011222682,\n",
       " 1.5989367985823981,\n",
       " 0.5369167158889545,\n",
       " 0.6113408151210868,\n",
       " 0.325457767277023,\n",
       " 0.7625516834022446,\n",
       " 0.6113408151210868,\n",
       " 0.7796810395747195,\n",
       " 0.4146485528647371,\n",
       " 1.0265800354400472,\n",
       " 0.603071470761961,\n",
       " 1.1252215002953339,\n",
       " 1.2368576491435324,\n",
       " 0.7454223272297696,\n",
       " 0.5044300059066745,\n",
       " 0.45481393975191964,\n",
       " 0.7359716479621973,\n",
       " 0.4134672179562906,\n",
       " 0.5629060838747785,\n",
       " 1.7578263437684583,\n",
       " 1.93502658003544,\n",
       " 1.533372711163615,\n",
       " 1.4240992321323096,\n",
       " 1.1577082102776137,\n",
       " 0.8712344949793267,\n",
       " 0.9279385705847608]"
      ]
     },
     "execution_count": 8,
     "metadata": {},
     "output_type": "execute_result"
    }
   ],
   "source": [
    "normalized_data"
   ]
  },
  {
   "cell_type": "markdown",
   "id": "c6316a4a",
   "metadata": {},
   "source": [
    "Q2. What is the Unit Vector technique in feature scaling, and how does it differ from Min-Max scaling?\n",
    "Provide an example to illustrate its application."
   ]
  },
  {
   "cell_type": "markdown",
   "id": "ddf5033d",
   "metadata": {},
   "source": [
    "Unit Vector Scaling technique is done considering the whole feature vector to be of unit length,\n",
    "\n",
    "Unit vector scaling means dividing each component by the Euclidean length of the vector (L2 Norm),\n",
    "\n",
    "Unit Vector technique produces values of range [0,1]"
   ]
  },
  {
   "cell_type": "code",
   "execution_count": 6,
   "id": "506ef6ce",
   "metadata": {},
   "outputs": [
    {
     "data": {
      "text/html": [
       "<div>\n",
       "<style scoped>\n",
       "    .dataframe tbody tr th:only-of-type {\n",
       "        vertical-align: middle;\n",
       "    }\n",
       "\n",
       "    .dataframe tbody tr th {\n",
       "        vertical-align: top;\n",
       "    }\n",
       "\n",
       "    .dataframe thead th {\n",
       "        text-align: right;\n",
       "    }\n",
       "</style>\n",
       "<table border=\"1\" class=\"dataframe\">\n",
       "  <thead>\n",
       "    <tr style=\"text-align: right;\">\n",
       "      <th></th>\n",
       "      <th>0</th>\n",
       "      <th>1</th>\n",
       "      <th>2</th>\n",
       "    </tr>\n",
       "  </thead>\n",
       "  <tbody>\n",
       "    <tr>\n",
       "      <th>0</th>\n",
       "      <td>0.213461</td>\n",
       "      <td>0.933894</td>\n",
       "      <td>0.286839</td>\n",
       "    </tr>\n",
       "    <tr>\n",
       "      <th>1</th>\n",
       "      <td>0.156064</td>\n",
       "      <td>0.987747</td>\n",
       "      <td>0.000000</td>\n",
       "    </tr>\n",
       "    <tr>\n",
       "      <th>2</th>\n",
       "      <td>0.171657</td>\n",
       "      <td>0.939731</td>\n",
       "      <td>0.295702</td>\n",
       "    </tr>\n",
       "    <tr>\n",
       "      <th>3</th>\n",
       "      <td>0.267899</td>\n",
       "      <td>0.939386</td>\n",
       "      <td>0.213971</td>\n",
       "    </tr>\n",
       "    <tr>\n",
       "      <th>4</th>\n",
       "      <td>0.231742</td>\n",
       "      <td>0.965592</td>\n",
       "      <td>0.118017</td>\n",
       "    </tr>\n",
       "    <tr>\n",
       "      <th>...</th>\n",
       "      <td>...</td>\n",
       "      <td>...</td>\n",
       "      <td>...</td>\n",
       "    </tr>\n",
       "    <tr>\n",
       "      <th>6428</th>\n",
       "      <td>0.160133</td>\n",
       "      <td>0.960800</td>\n",
       "      <td>0.226322</td>\n",
       "    </tr>\n",
       "    <tr>\n",
       "      <th>6429</th>\n",
       "      <td>0.307453</td>\n",
       "      <td>0.951563</td>\n",
       "      <td>0.000000</td>\n",
       "    </tr>\n",
       "    <tr>\n",
       "      <th>6430</th>\n",
       "      <td>0.250500</td>\n",
       "      <td>0.968117</td>\n",
       "      <td>0.000000</td>\n",
       "    </tr>\n",
       "    <tr>\n",
       "      <th>6431</th>\n",
       "      <td>0.183497</td>\n",
       "      <td>0.983020</td>\n",
       "      <td>0.000000</td>\n",
       "    </tr>\n",
       "    <tr>\n",
       "      <th>6432</th>\n",
       "      <td>0.242956</td>\n",
       "      <td>0.946580</td>\n",
       "      <td>0.212034</td>\n",
       "    </tr>\n",
       "  </tbody>\n",
       "</table>\n",
       "<p>6433 rows × 3 columns</p>\n",
       "</div>"
      ],
      "text/plain": [
       "             0         1         2\n",
       "0     0.213461  0.933894  0.286839\n",
       "1     0.156064  0.987747  0.000000\n",
       "2     0.171657  0.939731  0.295702\n",
       "3     0.267899  0.939386  0.213971\n",
       "4     0.231742  0.965592  0.118017\n",
       "...        ...       ...       ...\n",
       "6428  0.160133  0.960800  0.226322\n",
       "6429  0.307453  0.951563  0.000000\n",
       "6430  0.250500  0.968117  0.000000\n",
       "6431  0.183497  0.983020  0.000000\n",
       "6432  0.242956  0.946580  0.212034\n",
       "\n",
       "[6433 rows x 3 columns]"
      ]
     },
     "execution_count": 6,
     "metadata": {},
     "output_type": "execute_result"
    }
   ],
   "source": [
    "import pandas as pd\n",
    "df=sns.load_dataset('taxis')\n",
    "df.head()\n",
    "from sklearn.preprocessing import normalize\n",
    "pd.DataFrame(normalize(df[['distance','fare','tip']]))"
   ]
  },
  {
   "cell_type": "markdown",
   "id": "849b865c",
   "metadata": {},
   "source": [
    "Q3. What is PCA (Principle Component Analysis), and how is it used in dimensionality reduction? Provide an\n",
    "example to illustrate its application."
   ]
  },
  {
   "cell_type": "markdown",
   "id": "46be97c1",
   "metadata": {},
   "source": [
    "Reducing the number of variables in a data collection while retaining as much information as\n",
    "\n",
    "feasible is the main goal of PCA. PCA can be mainly used for Dimensionality Reduction a\n",
    "\n",
    "and also for important feature selection.\n",
    "\n",
    "PCA is used to decompose a multivariate dataset in a set of successive orthogonal components that explain\n",
    "\n",
    "a maximum amount of the variance. I"
   ]
  },
  {
   "cell_type": "markdown",
   "id": "f98967fe",
   "metadata": {},
   "source": [
    "Q4. What is the relationship between PCA and Feature Extraction, and how can PCA be used for Feature\n",
    "Extraction? Provide an example to illustrate this concept."
   ]
  },
  {
   "cell_type": "markdown",
   "id": "d56be1c9",
   "metadata": {},
   "source": [
    "When a computer is trained on a big, well-organized dataset, machine learning often excels.\n",
    "\n",
    "One of the techniques used to handle the curse of dimensionality in machine learning is principal component analysis (PCA).\n",
    "\n",
    "Typically, having a sufficient amount of data enables us to create a more accurate prediction model since we have more data \n",
    "\n",
    "to use to train the computer.\n",
    "\n",
    "But working with a huge data collection has its own drawbacks. The curse of dimensionality is the ultimate trap.\n",
    "\n",
    "The title of an unreleased Harry Potter novel does not refer to what happens when your data has too many characteristics \n",
    "\n",
    "and perhaps not enough data points; rather, it refers to the curse of dimensionality. One can use dimensionality reduction \n",
    "\n",
    "\n",
    "to escape the dimensionality curse. Having 50 variables may be cut down to 40, 20, or even 10. The strongest effects of \n",
    "\n",
    "dimensionality reduction are found here."
   ]
  },
  {
   "cell_type": "markdown",
   "id": "1dd9b118",
   "metadata": {},
   "source": [
    "Q5. You are working on a project to build a recommendation system for a food delivery service. The dataset\n",
    "contains features such as price, rating, and delivery time. Explain how you would use Min-Max scaling to\n",
    "preprocess the data."
   ]
  },
  {
   "cell_type": "markdown",
   "id": "2f8411a0",
   "metadata": {},
   "source": [
    "we will scale price and deleviry time using min max scaling process so that their they come into the ranges 0 to 1.\n",
    "we should not scale rating as it is  not quantitative variable."
   ]
  },
  {
   "cell_type": "markdown",
   "id": "67c92821",
   "metadata": {},
   "source": [
    "Q6. You are working on a project to build a model to predict stock prices. The dataset contains many\n",
    "features, such as company financial data and market trends. Explain how you would use PCA to reduce the\n",
    "dimensionality of the dataset."
   ]
  },
  {
   "cell_type": "markdown",
   "id": "dab98b89",
   "metadata": {},
   "source": [
    "we will use  pca to reduce dimensioality so that maximum variablity reserved."
   ]
  },
  {
   "cell_type": "markdown",
   "id": "d32ac817",
   "metadata": {},
   "source": [
    "Q7. For a dataset containing the following values: [1, 5, 10, 15, 20], perform Min-Max scaling to transform the\n",
    "values to a range of -1 to 1."
   ]
  },
  {
   "cell_type": "code",
   "execution_count": 1,
   "id": "4b4e3cde",
   "metadata": {},
   "outputs": [
    {
     "name": "stdout",
     "output_type": "stream",
     "text": [
      "20 1\n"
     ]
    }
   ],
   "source": [
    "import numpy as np\n",
    "a= [1, 5, 10, 15, 20]\n",
    "max_n=max(a)\n",
    "min_n=min(a)\n",
    "print(max_n,min_n)"
   ]
  },
  {
   "cell_type": "code",
   "execution_count": 6,
   "id": "45804394",
   "metadata": {},
   "outputs": [
    {
     "data": {
      "text/plain": [
       "[0.0, 0.21052631578947367, 0.47368421052631576, 0.7368421052631579, 1.0]"
      ]
     },
     "execution_count": 6,
     "metadata": {},
     "output_type": "execute_result"
    }
   ],
   "source": [
    "normalized_data=[]\n",
    "for i in a:\n",
    "    z_score=(i-min_n)/(max_n-min_n)\n",
    "    normalized_data.append(z_score)\n",
    "normalized_data"
   ]
  },
  {
   "cell_type": "markdown",
   "id": "a6e7a9d2",
   "metadata": {},
   "source": [
    "Q8. For a dataset containing the following features: [height, weight, age, gender, blood pressure], perform\n",
    "Feature Extraction using PCA. How many principal components would you choose to retain, and why?"
   ]
  },
  {
   "cell_type": "markdown",
   "id": "220f8567",
   "metadata": {},
   "source": [
    "there will be 2 principal components as gender is binary variable and other fours are numeric "
   ]
  },
  {
   "cell_type": "code",
   "execution_count": null,
   "id": "618cd7c2",
   "metadata": {},
   "outputs": [],
   "source": []
  }
 ],
 "metadata": {
  "kernelspec": {
   "display_name": "Python 3 (ipykernel)",
   "language": "python",
   "name": "python3"
  },
  "language_info": {
   "codemirror_mode": {
    "name": "ipython",
    "version": 3
   },
   "file_extension": ".py",
   "mimetype": "text/x-python",
   "name": "python",
   "nbconvert_exporter": "python",
   "pygments_lexer": "ipython3",
   "version": "3.11.3"
  }
 },
 "nbformat": 4,
 "nbformat_minor": 5
}
